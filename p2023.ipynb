{
 "cells": [
  {
   "cell_type": "code",
   "execution_count": 19,
   "metadata": {},
   "outputs": [],
   "source": [
    "import random\n",
    "import numpy as np\n",
    "import pandas as pd\n",
    "import matplotlib.pyplot as plt\n",
    "from sklearn import metrics\n",
    "from sklearn.pipeline import make_pipeline\n",
    "from sklearn.model_selection import train_test_split, learning_curve, LearningCurveDisplay, ShuffleSplit\n",
    "from sklearn.preprocessing import StandardScaler, Normalizer\n",
    "from sklearn.decomposition import PCA\n",
    "from sklearn.ensemble import RandomForestClassifier\n",
    "from sklearn.svm import SVC\n",
    "from sklearn.linear_model import SGDClassifier\n"
   ]
  },
  {
   "cell_type": "code",
   "execution_count": 20,
   "metadata": {},
   "outputs": [],
   "source": [
    "import pickle\n",
    "# Save model\n",
    "def save_model(file_name, model):\n",
    "    with open('model/'+file_name,'wb') as f:\n",
    "        pickle.dump(model,f)\n",
    "    f.close()\n",
    "\n",
    "# Load model\n",
    "def load_model(file_name):\n",
    "    with open('model/'+file_name,'rb') as f:\n",
    "        model = pickle.load(f)\n",
    "    f.close()\n",
    "    return model"
   ]
  },
  {
   "cell_type": "code",
   "execution_count": 21,
   "metadata": {},
   "outputs": [
    {
     "name": "stdout",
     "output_type": "stream",
     "text": [
      "103\n"
     ]
    }
   ],
   "source": [
    "#   Read raw data\n",
    "data_path = 'datasets\\CIC IoT 2023\\\\'\n",
    "file_no = random.randrange(0,169)\n",
    "train_file = f'part-{file_no:05d}-363d1ba3-8ab5-4f96-bc25-4d5862db7cb9-c000.csv'  # largest file in datasets\n",
    "df = pd.read_csv(data_path+train_file)\n",
    "print(file_no)"
   ]
  },
  {
   "cell_type": "code",
   "execution_count": 22,
   "metadata": {},
   "outputs": [],
   "source": [
    "single_value_cols = []\n",
    "def is_unique(s):                           #   This runs in O(n) compared to O(n log n) nunique() method\n",
    "    a = s.to_numpy() \n",
    "    return (a[0] == a).all()\n",
    "for i in df.columns:\n",
    "    if(is_unique(df[i])):\n",
    "        single_value_cols.append(i)\n",
    "        \n",
    "single_value_cols = ['ece_flag_number', 'cwr_flag_number', 'Telnet', 'SMTP', 'IRC']\n",
    "df.drop(single_value_cols,axis=1, inplace=True)          #    Drop all single value columns  "
   ]
  },
  {
   "cell_type": "code",
   "execution_count": 23,
   "metadata": {},
   "outputs": [],
   "source": [
    "### Use this code to demonstrate the detailed correlation matrix.\n",
    "# corr = df.iloc[:,:-1].corr().abs()\n",
    "# corr.style.background_gradient(cmap='coolwarm')"
   ]
  },
  {
   "cell_type": "code",
   "execution_count": 24,
   "metadata": {},
   "outputs": [],
   "source": [
    "def get_high_corr_cols(df:pd.DataFrame, threshold):\n",
    "    cols = []\n",
    "    df_col = df.columns\n",
    "    c = {i:[] for i in df_col}\n",
    "    corr = df.corr().abs().to_numpy()\n",
    "    for i,corr_i in enumerate(corr):\n",
    "        for j, corr_i_j in enumerate(corr_i):\n",
    "            if(corr_i_j > threshold and i!=j):\n",
    "                c[df_col[i]].append(df_col[j])\n",
    "    for i in c:\n",
    "        if(i not in cols and c[i]!=[]):\n",
    "            cols.extend(c[i])\n",
    "    return cols\n",
    "\n",
    "high_corr_cols = ['Srate', 'rst_flag_number', 'ack_count', 'fin_count', 'LLC', 'AVG', 'Magnitue', 'Std', 'Radius', 'AVG', 'Magnitue', 'Number', 'Weight']\n",
    "# high_corr_cols = get_high_corr_cols(df.iloc[:,:-1], 0.9)\n",
    "df.drop(high_corr_cols,axis=1, inplace=True)"
   ]
  },
  {
   "cell_type": "code",
   "execution_count": 25,
   "metadata": {},
   "outputs": [
    {
     "data": {
      "image/png": "[encoded data removed]",
      "text/plain": [
       "<Figure size 480x480 with 2 Axes>"
      ]
     },
     "metadata": {},
     "output_type": "display_data"
    }
   ],
   "source": [
    "# Use this to get simplified correlation matrix \n",
    "new_corr =  df.iloc[:,:-1].corr().abs()\n",
    "plt.matshow(new_corr)\n",
    "plt.colorbar()\n",
    "plt.show()"
   ]
  },
  {
   "cell_type": "code",
   "execution_count": 26,
   "metadata": {},
   "outputs": [],
   "source": [
    "# Use this for standardize custom columns of dataframe\n",
    "# NOTE: Remember to use the scaler with the test data to scale the data\n",
    "def custom_col_standardize(df: pd.DataFrame, cols:list = 'all'):\n",
    "    scalar = StandardScaler()\n",
    "    scaled_data = df\n",
    "    if cols == 'all':\n",
    "        scaled_data.iloc[:,:-1] = pd.DataFrame(scalar.fit_transform(df.iloc[:,:-1])) \n",
    "    else:\n",
    "        scaled_data.iloc[:,cols] = pd.DataFrame(scalar.fit_transform(df.iloc[:,cols])) \n",
    "    return scalar, scaled_data"
   ]
  },
  {
   "cell_type": "code",
   "execution_count": null,
   "metadata": {},
   "outputs": [],
   "source": [
    "sub_df = df    # use .sample(n) to get random n row from data frame to create sub_data\n",
    "sub_df = sub_df[~sub_df.isin([np.nan, np.inf, -np.inf]).any(1)] # remove nan, inf, -inf value\n",
    "X = sub_df.iloc[:,:-1].to_numpy()\n",
    "Y = sub_df.iloc[:,-1].to_numpy()"
   ]
  },
  {
   "cell_type": "code",
   "execution_count": 28,
   "metadata": {},
   "outputs": [],
   "source": [
    "def convert_label_to_class_label(Y :np.ndarray):\n",
    "    Y_class = []\n",
    "    c = {'DDoS-ICMP_Flood': 'DDos', 'DDoS-RSTFINFlood': 'DDos', 'DDoS-SYN_Flood': 'DDos', 'DDoS-SynonymousIP_Flood': 'DDos', 'DDoS-UDP_Flood': 'DDos', 'DDoS-PSHACK_Flood': 'DDos', 'DDoS-UDP_Fragmentation': 'DDos', 'DDoS-TCP_Flood': 'DDos', 'DDoS-ICMP_Fragmentation': 'DDos', 'DDoS-HTTP_Flood': 'DDos', 'DDoS-ACK_Fragmentation': 'DDos', 'DDoS-SlowLoris': 'DDos', 'DoS-UDP_Flood': 'Dos', 'DoS-TCP_Flood': 'Dos', 'DoS-SYN_Flood': 'Dos', 'DoS-HTTP_Flood': 'Dos', 'Recon-HostDiscovery': 'Recon', 'Recon-PortScan': 'Recon', 'Recon-OSScan': 'Recon', 'Recon-PingSweep': 'Recon', 'VulnerabilityScan': 'Recon', 'Uploading_Attack': 'Recon', 'SqlInjection': 'Web-based', 'CommandInjection': 'Web-based', 'Backdoor_Malware': 'Web-based', 'XSS': 'Web-based', 'MITM-ArpSpoofing': 'Spoofing', 'DNS_Spoofing': 'Spoofing', 'BrowserHijacking': 'Spoofing', 'DictionaryBruteForce': 'Bruteforce', 'Mirai-greeth_flood': 'Mirai', 'Mirai-udpplain': 'Mirai', 'Mirai-greip_flood': 'Mirai', 'BenignTraffic': 'Benign'}\n",
    "    for i in Y:\n",
    "        Y_class.append(c[i])\n",
    "    return np.array(Y_class)\n",
    "\n",
    "\n",
    "Y_class = convert_label_to_class_label(Y)"
   ]
  },
  {
   "cell_type": "code",
   "execution_count": 29,
   "metadata": {},
   "outputs": [
    {
     "name": "stdout",
     "output_type": "stream",
     "text": [
      "(201989, 30) (50498, 30)\n"
     ]
    }
   ],
   "source": [
    "# This data for training detailed network attack \n",
    "X_train, X_test, Y_train, Y_test = train_test_split(X,Y,test_size=0.2, random_state=random.randint(1,999))\n",
    "\n",
    "# This data for training network attack by category\n",
    "X_train_class, X_test_class, Y_train_class, Y_test_class = train_test_split(X,Y_class,test_size=0.2, random_state=random.randint(1,999))\n",
    "\n",
    "print(X_train.shape,X_test.shape)"
   ]
  },
  {
   "cell_type": "code",
   "execution_count": 30,
   "metadata": {},
   "outputs": [],
   "source": [
    "# Create model using SVM to classify specific attacks\n",
    "# Use n_components='mle' to auto guess the dimension else speficy the dimension with int.\n",
    "\n",
    "SVM_class_clf = make_pipeline(StandardScaler(),PCA(n_components='mle'), SGDClassifier())\n",
    "SVM_class_clf.fit(X_train_class, Y_train_class)               \n",
    "\n",
    "save_model('SVM_class.pkl', SVM_class_clf)"
   ]
  },
  {
   "cell_type": "code",
   "execution_count": 31,
   "metadata": {},
   "outputs": [],
   "source": [
    "SVM_clf = make_pipeline(StandardScaler(),PCA(n_components=20), SGDClassifier())\n",
    "SVM_clf.fit(X_train, Y_train) \n",
    "save_model('SVM.pkl', SVM_clf)"
   ]
  },
  {
   "cell_type": "code",
   "execution_count": 32,
   "metadata": {},
   "outputs": [],
   "source": [
    "RF_clf = RandomForestClassifier(max_depth=10, max_leaf_nodes=15)\n",
    "RF_clf.fit(X_train,Y_train)\n",
    "save_model('RF.pkl', RF_clf)"
   ]
  },
  {
   "cell_type": "code",
   "execution_count": 33,
   "metadata": {},
   "outputs": [],
   "source": [
    "RF_class_clf = RandomForestClassifier(max_depth=5, max_leaf_nodes=10)\n",
    "RF_class_clf.fit(X_train_class,Y_train_class)\n",
    "save_model('RF_class.pkl', RF_class_clf)"
   ]
  },
  {
   "cell_type": "code",
   "execution_count": 34,
   "metadata": {},
   "outputs": [
    {
     "name": "stdout",
     "output_type": "stream",
     "text": [
      "SVM class model accuracy: 0.8093587864865935\n"
     ]
    }
   ],
   "source": [
    "\n",
    "SVM_Y_predict_class = SVM_class_clf.predict(X_test_class)\n",
    "print(\"SVM class model accuracy:\", metrics.accuracy_score(Y_test_class, SVM_Y_predict_class))\n"
   ]
  },
  {
   "cell_type": "code",
   "execution_count": 35,
   "metadata": {},
   "outputs": [
    {
     "name": "stdout",
     "output_type": "stream",
     "text": [
      "SVM model accuracy: 0.7748821735514277\n"
     ]
    }
   ],
   "source": [
    "SVM_Y_predict = SVM_clf.predict(X_test)\n",
    "print(\"SVM model accuracy:\", metrics.accuracy_score(Y_test, SVM_Y_predict))"
   ]
  },
  {
   "cell_type": "code",
   "execution_count": 36,
   "metadata": {},
   "outputs": [
    {
     "name": "stdout",
     "output_type": "stream",
     "text": [
      "Random forest class model accuracy: 0.9769099766327379\n"
     ]
    }
   ],
   "source": [
    "RF_Y_predict_class = RF_class_clf.predict(X_test_class)\n",
    "print(\"Random forest class model accuracy:\", metrics.accuracy_score(Y_test_class, RF_Y_predict_class))"
   ]
  },
  {
   "cell_type": "code",
   "execution_count": 37,
   "metadata": {},
   "outputs": [
    {
     "name": "stdout",
     "output_type": "stream",
     "text": [
      "Random forest model accuracy: 0.914947126618876\n"
     ]
    }
   ],
   "source": [
    "\n",
    "\n",
    "RF_Y_predict = RF_clf.predict(X_test)\n",
    "print(\"Random forest model accuracy:\", metrics.accuracy_score(Y_test, RF_Y_predict))\n"
   ]
  },
  {
   "cell_type": "code",
   "execution_count": 46,
   "metadata": {},
   "outputs": [
    {
     "name": "stdout",
     "output_type": "stream",
     "text": [
      "(2587827, 47)\n"
     ]
    }
   ],
   "source": [
    "# Cross-validation\n",
    "\n",
    "\n",
    "df2 = pd.concat([pd.read_csv(data_path+f'part-{x:05d}-363d1ba3-8ab5-4f96-bc25-4d5862db7cb9-c000.csv') for x in [random.randrange(169) for i in range(10)]])\n",
    "print(df2.shape)\n",
    "df2 = df2"
   ]
  },
  {
   "cell_type": "code",
   "execution_count": 47,
   "metadata": {},
   "outputs": [],
   "source": [
    "df2.drop(single_value_cols,axis=1, inplace=True)\n",
    "df2.drop(high_corr_cols,axis=1, inplace=True) \n",
    "X_future_test = df2.iloc[:,:-1].to_numpy()\n",
    "\n",
    "Y_future_test = df2.iloc[:,-1].to_numpy()\n",
    "Y_future_test_class = convert_label_to_class_label(Y_future_test)\n"
   ]
  },
  {
   "cell_type": "code",
   "execution_count": 62,
   "metadata": {},
   "outputs": [
    {
     "name": "stdout",
     "output_type": "stream",
     "text": [
      "[102544.76265125675, 8571935.87639818, 38.430044716966776, 235.94992047141824, 7696470.003559334, 8.761692185997562, 0.8097563152383356, 0.5495782168307308, 0.771287561657924, 0.4417350110827202, 8.42710972038666, 3032.8573154260635, 7480.162543455476, 0.5541862396515087, 0.6107003321062096, 0.49568640084281557, 0.8477943526031916, 0.9282407173213123, 0.12978260430396749, 0.3208014695090079, 0.36952891514946984, 0.4101721315987229, 0.44547385100455694, 11435.041650750614, 5398.3120344088, 2214.3968676264712, 1529.9269896248004, 166129546.3342178, 33805815.01655711, 0.22731308076489987]\n"
     ]
    }
   ],
   "source": [
    "r = df2.describe().loc[['min','max']].to_numpy().transpose()\n"
   ]
  },
  {
   "cell_type": "code",
   "execution_count": 110,
   "metadata": {},
   "outputs": [],
   "source": [
    "# record = [random.uniform(i[0],i[1]) for i in r]\n",
    "record = [\n",
    "43.85950756072998,1962.2,8.1,75.2,19.08617753411552,19.08617753411552,0.0,0.0,0.0,0.0,0.0,0.0,0.0,0.0,0.0,0.7,0.0,0.3,1.0,0.0,0.0,0.0,0.0,0.0,0.0,0.0,0.0,0.0,0.0,0.0,0.0,1.0,1.0,485.2,60.0,149.8,79.97238095238096,30.746275756044746,103.2,0.0295354127883911,5.5,12.576264767298037,43.48180016666157,1875.46316553288,0.9,38.5]    \n",
    "rcd = pd.DataFrame([record], columns=pd.read_csv(data_path+train_file).columns[:-1])\n",
    "rcd.drop(single_value_cols+high_corr_cols,axis=1,inplace=True)"
   ]
  },
  {
   "cell_type": "code",
   "execution_count": 111,
   "metadata": {},
   "outputs": [
    {
     "name": "stdout",
     "output_type": "stream",
     "text": [
      "['BenignTraffic']\n"
     ]
    }
   ],
   "source": [
    "# Use any model here\n",
    "\n",
    "clf = load_model('SVM.pkl')\n",
    "Y_future_predict_class = clf.predict(rcd.to_numpy())\n",
    "print(Y_future_predict_class)"
   ]
  },
  {
   "cell_type": "code",
   "execution_count": 51,
   "metadata": {},
   "outputs": [
    {
     "name": "stdout",
     "output_type": "stream",
     "text": [
      "Model accuracy: 0.9775282505360675\n"
     ]
    }
   ],
   "source": [
    "# Check accuracy here\n",
    "print(\"Model accuracy:\", metrics.accuracy_score(Y_future_test_class, Y_future_predict_class))"
   ]
  }
 ],
 "metadata": {
  "kernelspec": {
   "display_name": "Python 3",
   "language": "python",
   "name": "python3"
  },
  "language_info": {
   "codemirror_mode": {
    "name": "ipython",
    "version": 3
   },
   "file_extension": ".py",
   "mimetype": "text/x-python",
   "name": "python",
   "nbconvert_exporter": "python",
   "pygments_lexer": "ipython3",
   "version": "3.10.9"
  },
  "orig_nbformat": 4
 },
 "nbformat": 4,
 "nbformat_minor": 2
}
